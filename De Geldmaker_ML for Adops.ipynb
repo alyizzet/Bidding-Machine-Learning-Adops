{
 "cells": [
  {
   "cell_type": "markdown",
   "metadata": {},
   "source": [
    "#  <font color='orange'>**MACHINE LEARNING MIS**  </font> \n",
    "***\n",
    "##  Classification <br>\n",
    "\n",
    " **USE STOCHASTIC GRADIENT DESCENT IF THAT DOESNT WORK USE KERNEL APPROXIMATION**<br> \n",
    "\n",
    "  \n",
    "##  Regression <br>\n",
    "\n",
    " **USE STOCHASTIC GRADIENT REGRESSOR** <br> \n",
    "  **Business Use Cases** : \n",
    "  1- (Revenue - Spending) Prediction with high accuracy can optimize Media Buying Profit. \n",
    "  \n",
    "  Label = Revenue; Features: CTR, Impression Count, Load Count, Play Count \n",
    "  \n",
    "  \n",
    "  \n",
    " <br> \n",
    "\n",
    "  "
   ]
  },
  {
   "cell_type": "code",
   "execution_count": 1,
   "metadata": {},
   "outputs": [
    {
     "data": {
      "text/html": [
       "<img src=\"https://scikit-learn.org/stable/_static/ml_map.png\"/>"
      ],
      "text/plain": [
       "<IPython.core.display.Image object>"
      ]
     },
     "execution_count": 1,
     "metadata": {},
     "output_type": "execute_result"
    }
   ],
   "source": [
    "from IPython.display import Image\n",
    "from IPython.core.display import HTML \n",
    "Image(url= \"https://scikit-learn.org/stable/_static/ml_map.png\")"
   ]
  },
  {
   "cell_type": "code",
   "execution_count": 2,
   "metadata": {},
   "outputs": [],
   "source": [
    "import pandas as pd\n",
    "import matplotlib.pyplot as plt\n",
    "from math import sqrt\n",
    "from sklearn.linear_model import SGDRegressor\n",
    "from sklearn import preprocessing\n",
    "import numpy as np\n",
    "import psycopg2 \n",
    "\n",
    "connection_ml = psycopg2.connect(user = \"postgres\",\n",
    "                                  password = \"\",\n",
    "                                  host = \"34.77.230.6\",\n",
    "                                  port = \"5432\",\n",
    "                                  database = \"\")\n",
    "cursor_1 = connection_ml.cursor()\n",
    "\n",
    "ad_report = pd.read_sql_query( ' SELECT  \"RptDate\", \"RptImpression\", \"RptTotalRequest\", \"RptCtr\", \"RptRevenue\", \"RptLoadCount\", \"RptPlayCount\" FROM dbo.\"AdReport\"where \"RptAssId\" = 70376 ', connection_ml)\n",
    "\n"
   ]
  },
  {
   "cell_type": "code",
   "execution_count": 43,
   "metadata": {
    "scrolled": true
   },
   "outputs": [
    {
     "data": {
      "text/html": [
       "<div>\n",
       "<style scoped>\n",
       "    .dataframe tbody tr th:only-of-type {\n",
       "        vertical-align: middle;\n",
       "    }\n",
       "\n",
       "    .dataframe tbody tr th {\n",
       "        vertical-align: top;\n",
       "    }\n",
       "\n",
       "    .dataframe thead th {\n",
       "        text-align: right;\n",
       "    }\n",
       "</style>\n",
       "<table border=\"1\" class=\"dataframe\">\n",
       "  <thead>\n",
       "    <tr style=\"text-align: right;\">\n",
       "      <th></th>\n",
       "      <th>RptImpression</th>\n",
       "      <th>RptTotalRequest</th>\n",
       "      <th>RptCtr</th>\n",
       "      <th>RptRevenue</th>\n",
       "      <th>RptLoadCount</th>\n",
       "      <th>RptPlayCount</th>\n",
       "    </tr>\n",
       "  </thead>\n",
       "  <tbody>\n",
       "    <tr>\n",
       "      <th>count</th>\n",
       "      <td>58895.000000</td>\n",
       "      <td>58895.000000</td>\n",
       "      <td>58895.000000</td>\n",
       "      <td>58895.000000</td>\n",
       "      <td>58895.000000</td>\n",
       "      <td>58895.000000</td>\n",
       "    </tr>\n",
       "    <tr>\n",
       "      <th>mean</th>\n",
       "      <td>3.553154</td>\n",
       "      <td>5.329264</td>\n",
       "      <td>0.098346</td>\n",
       "      <td>0.007485</td>\n",
       "      <td>0.660939</td>\n",
       "      <td>5.274539</td>\n",
       "    </tr>\n",
       "    <tr>\n",
       "      <th>std</th>\n",
       "      <td>12.709993</td>\n",
       "      <td>44.028363</td>\n",
       "      <td>0.333720</td>\n",
       "      <td>0.028466</td>\n",
       "      <td>55.110833</td>\n",
       "      <td>20.615225</td>\n",
       "    </tr>\n",
       "    <tr>\n",
       "      <th>min</th>\n",
       "      <td>0.000000</td>\n",
       "      <td>0.000000</td>\n",
       "      <td>0.000000</td>\n",
       "      <td>0.000000</td>\n",
       "      <td>0.000000</td>\n",
       "      <td>0.000000</td>\n",
       "    </tr>\n",
       "    <tr>\n",
       "      <th>25%</th>\n",
       "      <td>1.000000</td>\n",
       "      <td>1.000000</td>\n",
       "      <td>0.000000</td>\n",
       "      <td>0.000000</td>\n",
       "      <td>0.000000</td>\n",
       "      <td>1.000000</td>\n",
       "    </tr>\n",
       "    <tr>\n",
       "      <th>50%</th>\n",
       "      <td>1.000000</td>\n",
       "      <td>2.000000</td>\n",
       "      <td>0.000000</td>\n",
       "      <td>0.001018</td>\n",
       "      <td>0.000000</td>\n",
       "      <td>1.000000</td>\n",
       "    </tr>\n",
       "    <tr>\n",
       "      <th>75%</th>\n",
       "      <td>2.000000</td>\n",
       "      <td>4.000000</td>\n",
       "      <td>0.000000</td>\n",
       "      <td>0.005373</td>\n",
       "      <td>0.000000</td>\n",
       "      <td>3.000000</td>\n",
       "    </tr>\n",
       "    <tr>\n",
       "      <th>max</th>\n",
       "      <td>516.000000</td>\n",
       "      <td>7546.000000</td>\n",
       "      <td>9.000000</td>\n",
       "      <td>1.440468</td>\n",
       "      <td>11172.000000</td>\n",
       "      <td>1327.000000</td>\n",
       "    </tr>\n",
       "  </tbody>\n",
       "</table>\n",
       "</div>"
      ],
      "text/plain": [
       "       RptImpression  RptTotalRequest        RptCtr    RptRevenue  \\\n",
       "count   58895.000000     58895.000000  58895.000000  58895.000000   \n",
       "mean        3.553154         5.329264      0.098346      0.007485   \n",
       "std        12.709993        44.028363      0.333720      0.028466   \n",
       "min         0.000000         0.000000      0.000000      0.000000   \n",
       "25%         1.000000         1.000000      0.000000      0.000000   \n",
       "50%         1.000000         2.000000      0.000000      0.001018   \n",
       "75%         2.000000         4.000000      0.000000      0.005373   \n",
       "max       516.000000      7546.000000      9.000000      1.440468   \n",
       "\n",
       "       RptLoadCount  RptPlayCount  \n",
       "count  58895.000000  58895.000000  \n",
       "mean       0.660939      5.274539  \n",
       "std       55.110833     20.615225  \n",
       "min        0.000000      0.000000  \n",
       "25%        0.000000      1.000000  \n",
       "50%        0.000000      1.000000  \n",
       "75%        0.000000      3.000000  \n",
       "max    11172.000000   1327.000000  "
      ]
     },
     "execution_count": 43,
     "metadata": {},
     "output_type": "execute_result"
    }
   ],
   "source": [
    "ad_report.describe()"
   ]
  },
  {
   "cell_type": "code",
   "execution_count": 3,
   "metadata": {},
   "outputs": [
    {
     "data": {
      "image/png": "[encoded data removed]",
      "text/plain": [
       "<Figure size 432x288 with 2 Axes>"
      ]
     },
     "metadata": {
      "needs_background": "light"
     },
     "output_type": "display_data"
    }
   ],
   "source": [
    "import seaborn as sns \n",
    "\n",
    "corr = ad_report.corr()\n",
    "\n",
    "ax = sns.heatmap( \n",
    "corr, \n",
    "vmin = -1, \n",
    "vmax = 1, center =0, cmap=sns.diverging_palette(20, 220, n=200),\n",
    "    square=True, annot = True\n",
    ")\n",
    "ax.set_xticklabels(\n",
    "    ax.get_xticklabels(),\n",
    "    rotation=45,\n",
    "    horizontalalignment='right'\n",
    ");"
   ]
  },
  {
   "cell_type": "code",
   "execution_count": 2,
   "metadata": {},
   "outputs": [
    {
     "name": "stdout",
     "output_type": "stream",
     "text": [
      "(58967, 7)\n"
     ]
    }
   ],
   "source": [
    "print(ad_report.shape)"
   ]
  },
  {
   "cell_type": "code",
   "execution_count": 44,
   "metadata": {
    "scrolled": true
   },
   "outputs": [
    {
     "data": {
      "text/html": [
       "<div>\n",
       "<style scoped>\n",
       "    .dataframe tbody tr th:only-of-type {\n",
       "        vertical-align: middle;\n",
       "    }\n",
       "\n",
       "    .dataframe tbody tr th {\n",
       "        vertical-align: top;\n",
       "    }\n",
       "\n",
       "    .dataframe thead th {\n",
       "        text-align: right;\n",
       "    }\n",
       "</style>\n",
       "<table border=\"1\" class=\"dataframe\">\n",
       "  <thead>\n",
       "    <tr style=\"text-align: right;\">\n",
       "      <th></th>\n",
       "      <th>RptDate</th>\n",
       "      <th>RptImpression</th>\n",
       "      <th>RptTotalRequest</th>\n",
       "      <th>RptCtr</th>\n",
       "      <th>RptRevenue</th>\n",
       "      <th>RptLoadCount</th>\n",
       "      <th>RptPlayCount</th>\n",
       "    </tr>\n",
       "  </thead>\n",
       "  <tbody>\n",
       "    <tr>\n",
       "      <th>0</th>\n",
       "      <td>2017-11-10</td>\n",
       "      <td>1</td>\n",
       "      <td>1</td>\n",
       "      <td>0.0</td>\n",
       "      <td>0.000035</td>\n",
       "      <td>0</td>\n",
       "      <td>1</td>\n",
       "    </tr>\n",
       "    <tr>\n",
       "      <th>1</th>\n",
       "      <td>2017-11-10</td>\n",
       "      <td>3</td>\n",
       "      <td>8</td>\n",
       "      <td>0.0</td>\n",
       "      <td>0.000246</td>\n",
       "      <td>0</td>\n",
       "      <td>2</td>\n",
       "    </tr>\n",
       "    <tr>\n",
       "      <th>2</th>\n",
       "      <td>2017-11-10</td>\n",
       "      <td>1</td>\n",
       "      <td>2</td>\n",
       "      <td>0.0</td>\n",
       "      <td>0.002153</td>\n",
       "      <td>0</td>\n",
       "      <td>1</td>\n",
       "    </tr>\n",
       "    <tr>\n",
       "      <th>3</th>\n",
       "      <td>2017-11-10</td>\n",
       "      <td>1</td>\n",
       "      <td>2</td>\n",
       "      <td>1.0</td>\n",
       "      <td>0.000841</td>\n",
       "      <td>0</td>\n",
       "      <td>1</td>\n",
       "    </tr>\n",
       "    <tr>\n",
       "      <th>4</th>\n",
       "      <td>2017-11-10</td>\n",
       "      <td>1</td>\n",
       "      <td>2</td>\n",
       "      <td>0.0</td>\n",
       "      <td>0.000000</td>\n",
       "      <td>0</td>\n",
       "      <td>1</td>\n",
       "    </tr>\n",
       "    <tr>\n",
       "      <th>5</th>\n",
       "      <td>2017-11-10</td>\n",
       "      <td>1</td>\n",
       "      <td>1</td>\n",
       "      <td>0.0</td>\n",
       "      <td>0.001647</td>\n",
       "      <td>0</td>\n",
       "      <td>1</td>\n",
       "    </tr>\n",
       "    <tr>\n",
       "      <th>6</th>\n",
       "      <td>2017-11-10</td>\n",
       "      <td>2</td>\n",
       "      <td>2</td>\n",
       "      <td>0.0</td>\n",
       "      <td>0.009029</td>\n",
       "      <td>0</td>\n",
       "      <td>4</td>\n",
       "    </tr>\n",
       "    <tr>\n",
       "      <th>7</th>\n",
       "      <td>2017-11-10</td>\n",
       "      <td>2</td>\n",
       "      <td>2</td>\n",
       "      <td>0.0</td>\n",
       "      <td>0.001238</td>\n",
       "      <td>0</td>\n",
       "      <td>2</td>\n",
       "    </tr>\n",
       "    <tr>\n",
       "      <th>8</th>\n",
       "      <td>2017-11-10</td>\n",
       "      <td>1</td>\n",
       "      <td>3</td>\n",
       "      <td>0.0</td>\n",
       "      <td>0.000704</td>\n",
       "      <td>0</td>\n",
       "      <td>1</td>\n",
       "    </tr>\n",
       "    <tr>\n",
       "      <th>9</th>\n",
       "      <td>2017-11-10</td>\n",
       "      <td>1</td>\n",
       "      <td>1</td>\n",
       "      <td>0.0</td>\n",
       "      <td>0.000682</td>\n",
       "      <td>0</td>\n",
       "      <td>1</td>\n",
       "    </tr>\n",
       "  </tbody>\n",
       "</table>\n",
       "</div>"
      ],
      "text/plain": [
       "     RptDate  RptImpression  RptTotalRequest  RptCtr  RptRevenue  \\\n",
       "0 2017-11-10              1                1     0.0    0.000035   \n",
       "1 2017-11-10              3                8     0.0    0.000246   \n",
       "2 2017-11-10              1                2     0.0    0.002153   \n",
       "3 2017-11-10              1                2     1.0    0.000841   \n",
       "4 2017-11-10              1                2     0.0    0.000000   \n",
       "5 2017-11-10              1                1     0.0    0.001647   \n",
       "6 2017-11-10              2                2     0.0    0.009029   \n",
       "7 2017-11-10              2                2     0.0    0.001238   \n",
       "8 2017-11-10              1                3     0.0    0.000704   \n",
       "9 2017-11-10              1                1     0.0    0.000682   \n",
       "\n",
       "   RptLoadCount  RptPlayCount  \n",
       "0             0             1  \n",
       "1             0             2  \n",
       "2             0             1  \n",
       "3             0             1  \n",
       "4             0             1  \n",
       "5             0             1  \n",
       "6             0             4  \n",
       "7             0             2  \n",
       "8             0             1  \n",
       "9             0             1  "
      ]
     },
     "execution_count": 44,
     "metadata": {},
     "output_type": "execute_result"
    }
   ],
   "source": [
    "ad_report.head(10)"
   ]
  },
  {
   "cell_type": "code",
   "execution_count": 10,
   "metadata": {},
   "outputs": [
    {
     "name": "stdout",
     "output_type": "stream",
     "text": [
      "(60421,)\n"
     ]
    },
    {
     "data": {
      "text/plain": [
       "array([[1, 1, 0, 1],\n",
       "       [3, 8, 0, 2],\n",
       "       [1, 2, 0, 1],\n",
       "       ...,\n",
       "       [2, 2, 0, 1],\n",
       "       [1, 3, 0, 2],\n",
       "       [1, 1, 0, 1]], dtype=int64)"
      ]
     },
     "execution_count": 10,
     "metadata": {},
     "output_type": "execute_result"
    }
   ],
   "source": [
    "target = ad_report[\"RptRevenue\"]\n",
    "predictors = ad_report[[\"RptImpression\",\"RptTotalRequest\",\"RptLoadCount\",\"RptPlayCount\"]]\n",
    "print(target.shape)\n",
    "\n",
    "target.to_numpy()\n",
    "predictors.to_numpy()"
   ]
  },
  {
   "cell_type": "code",
   "execution_count": 11,
   "metadata": {},
   "outputs": [
    {
     "name": "stdout",
     "output_type": "stream",
     "text": [
      "(48336, 4) (48336,)\n",
      "(12085, 4) (12085,)\n"
     ]
    }
   ],
   "source": [
    "# Test Train Split ilk olarak ve sonrasında Min Max Scaling buraya gelecek. \n",
    "from sklearn.model_selection import train_test_split\n",
    "X_train, X_test, y_train, y_test = train_test_split(predictors.to_numpy(), target.to_numpy(), test_size=0.2)\n",
    "\n",
    "print (X_train.shape, y_train.shape)\n",
    "print (X_test.shape, y_test.shape)"
   ]
  },
  {
   "cell_type": "code",
   "execution_count": 12,
   "metadata": {},
   "outputs": [
    {
     "name": "stdout",
     "output_type": "stream",
     "text": [
      "MinMaxScaler(copy=True, feature_range=(0, 1))\n",
      "[[0.00193798 0.00013252 0.         0.00075358]\n",
      " [0.00581395 0.00106016 0.         0.00150716]\n",
      " [0.00193798 0.00026504 0.         0.00075358]\n",
      " ...\n",
      " [0.00387597 0.00026504 0.         0.00075358]\n",
      " [0.00193798 0.00039756 0.         0.00150716]\n",
      " [0.00193798 0.00013252 0.         0.00075358]]\n"
     ]
    }
   ],
   "source": [
    "# min max scaling \n",
    "from sklearn.preprocessing import MinMaxScaler\n",
    "scaler = MinMaxScaler()\n",
    "print(scaler.fit(predictors.to_numpy()))\n",
    "print(scaler.transform(predictors.to_numpy()))"
   ]
  },
  {
   "cell_type": "code",
   "execution_count": 13,
   "metadata": {
    "scrolled": true
   },
   "outputs": [
    {
     "name": "stdout",
     "output_type": "stream",
     "text": [
      "Epoch 1/10\n",
      "48336/48336 [==============================] - 1s 30us/step - loss: 0.0940 - accuracy: 0.2763\n",
      "Epoch 2/10\n",
      "48336/48336 [==============================] - 1s 29us/step - loss: 0.0022 - accuracy: 0.3139\n",
      "Epoch 3/10\n",
      "48336/48336 [==============================] - 1s 30us/step - loss: 0.0012 - accuracy: 0.3140\n",
      "Epoch 4/10\n",
      "48336/48336 [==============================] - 2s 32us/step - loss: 8.8293e-04 - accuracy: 0.3141\n",
      "Epoch 5/10\n",
      "48336/48336 [==============================] - 1s 28us/step - loss: 8.4679e-04 - accuracy: 0.3141\n",
      "Epoch 6/10\n",
      "48336/48336 [==============================] - 1s 28us/step - loss: 8.2980e-04 - accuracy: 0.3141\n",
      "Epoch 7/10\n",
      "48336/48336 [==============================] - 1s 28us/step - loss: 8.2234e-04 - accuracy: 0.3141\n",
      "Epoch 8/10\n",
      "48336/48336 [==============================] - 1s 27us/step - loss: 8.1920e-04 - accuracy: 0.3141\n",
      "Epoch 9/10\n",
      "48336/48336 [==============================] - 1s 27us/step - loss: 8.1790e-04 - accuracy: 0.3141\n",
      "Epoch 10/10\n",
      "48336/48336 [==============================] - 1s 28us/step - loss: 8.1736e-04 - accuracy: 0.3141\n",
      "12085/12085 [==============================] - 0s 14us/step\n"
     ]
    }
   ],
   "source": [
    "from keras import optimizers \n",
    "from keras.models import Sequential\n",
    "from keras.layers import Activation, Dense\n",
    "\n",
    "model = Sequential()\n",
    "model.add(Dense(4, input_dim= 4, activation = 'relu'))\n",
    "model.add(Dense(1, activation ='sigmoid'))    # Burası kerasın ilk gereken parçası Sequential Model veya Functional API tercihe göre \n",
    "\n",
    "model.compile(loss='mean_squared_error', optimizer='adam', metrics = ['accuracy']) # burada optimizer (keras modeli kurmak için gerekli iki argümandan biri)\n",
    "\n",
    "model.fit(X_train, y_train, epochs=10, batch_size=32) # burada tranining başlıyor \n",
    "\n",
    "loss_and_metrics = model.evaluate(X_test, y_test, batch_size=32) # burada kayıp ile performans ölçülüyor \n",
    "\n",
    "classes = model.predict(X_test, batch_size=128) # burada sonuş olarak prediction eğrisi çiziliyor. "
   ]
  },
  {
   "cell_type": "code",
   "execution_count": 14,
   "metadata": {},
   "outputs": [
    {
     "name": "stdout",
     "output_type": "stream",
     "text": [
      "Model: \"sequential_2\"\n",
      "_________________________________________________________________\n",
      "Layer (type)                 Output Shape              Param #   \n",
      "=================================================================\n",
      "dense_3 (Dense)              (None, 4)                 20        \n",
      "_________________________________________________________________\n",
      "dense_4 (Dense)              (None, 1)                 5         \n",
      "=================================================================\n",
      "Total params: 25\n",
      "Trainable params: 25\n",
      "Non-trainable params: 0\n",
      "_________________________________________________________________\n"
     ]
    }
   ],
   "source": [
    "model.summary()"
   ]
  },
  {
   "cell_type": "code",
   "execution_count": 15,
   "metadata": {},
   "outputs": [
    {
     "data": {
      "image/png": "[encoded data removed]",
      "text/plain": [
       "<Figure size 432x288 with 1 Axes>"
      ]
     },
     "metadata": {
      "needs_background": "light"
     },
     "output_type": "display_data"
    }
   ],
   "source": [
    "# Visualize the data versus R-squared line \n",
    "\n",
    "plt.scatter(y_test,classes)\n",
    "plt.xlabel('Actual values')\n",
    "plt.ylabel('Predicted values')\n",
    "plt.show()"
   ]
  },
  {
   "cell_type": "code",
   "execution_count": 1,
   "metadata": {},
   "outputs": [],
   "source": [
    "# The Accuracy is not high enough\n",
    "# Change the Optimizer\n",
    "# Change the Epochs of Training \n",
    "# Change the Layers Density \n",
    "# Change the Regression Model entirely\n",
    "# Check for R2 regression relevance in the data, aka are columns meaningful \n",
    "# Search for all the accuracy improvement methods in Machine Learning "
   ]
  }
 ],
 "metadata": {
  "kernelspec": {
   "display_name": "Python 3",
   "language": "python",
   "name": "python3"
  },
  "language_info": {
   "codemirror_mode": {
    "name": "ipython",
    "version": 3
   },
   "file_extension": ".py",
   "mimetype": "text/x-python",
   "name": "python",
   "nbconvert_exporter": "python",
   "pygments_lexer": "ipython3",
   "version": "3.7.1"
  }
 },
 "nbformat": 4,
 "nbformat_minor": 4
}
